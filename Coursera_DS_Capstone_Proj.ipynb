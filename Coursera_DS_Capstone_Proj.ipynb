version https://git-lfs.github.com/spec/v1
oid sha256:2df612bf53df4b01c2a5753e29252364062666634a06d3efefc1231e65b6ea48
size 393632831
