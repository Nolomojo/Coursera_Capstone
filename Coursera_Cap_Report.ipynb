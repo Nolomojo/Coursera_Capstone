{
 "cells": [
  {
   "cell_type": "markdown",
   "id": "0436353e-682c-4b2e-98de-6709eb69ebf8",
   "metadata": {},
   "source": [
    "# Coursera Capstone Project Report: Exploring Trends in Most Populous Cities of the United States"
   ]
  },
  {
   "cell_type": "markdown",
   "id": "0083d191-86ae-429a-a089-24ece92e5ac5",
   "metadata": {},
   "source": [
    "### Table of Contents"
   ]
  },
  {
   "cell_type": "markdown",
   "id": "c6dd2fb6-2a46-4de8-b246-e192eafde9b1",
   "metadata": {},
   "source": [
    "### Abstract"
   ]
  },
  {
   "cell_type": "markdown",
   "id": "f83e8b93-fbcc-4359-8d14-d6caee011243",
   "metadata": {},
   "source": [
    "### Introduction"
   ]
  },
  {
   "cell_type": "markdown",
   "id": "84326572-aafa-4569-bcf3-58f72a2f0c79",
   "metadata": {},
   "source": [
    "Company X wishes to branch out their business chain by opening new locations in ideal US cities. To identify which US cities might be ideal candidates as well as ideal locations within those cities; we explore relationships between the most populous US cities and the types of venues that correspond to each. We will then perform agglomerative hierarchical clustering to see which of the top 300 or so most populous US cities might be worthy of looking into further. The hierarchical clustering will be based on population, population change (percent increase/decrease), and the 100 top-rated types of venues that exist within them (near the city centers). Once the hierarchical clustering is completed, a more in-depth study can then be performed by Company X. Therefore, this work is a preliminary investigation step."
   ]
  },
  {
   "cell_type": "markdown",
   "id": "9eb6a48b-1c36-4ba6-9224-0f60d4e2f8b5",
   "metadata": {},
   "source": [
    "### Methodology"
   ]
  },
  {
   "cell_type": "markdown",
   "id": "c9b09f97-7af1-4632-a7f4-5c3f3103b2ff",
   "metadata": {},
   "source": [
    "### Results"
   ]
  },
  {
   "cell_type": "markdown",
   "id": "2cef8055-da66-4efe-be0c-01d937549916",
   "metadata": {},
   "source": [
    "![US Cities Dendrogram](venue_and_pop_dendrogram.png)"
   ]
  },
  {
   "cell_type": "markdown",
   "id": "42238fea-05e8-4f32-807f-e24c1719ab29",
   "metadata": {},
   "source": [
    "![US Cities Dendrogram (shaded)](venue_and_pop_dendrogram_shaded.png)"
   ]
  },
  {
   "cell_type": "markdown",
   "id": "c0e2b122-f76e-42ed-bb5a-75fb3b90f19b",
   "metadata": {},
   "source": [
    "![US Cities Dendrogram (venues only)](venue_dendrogram.png)"
   ]
  },
  {
   "cell_type": "markdown",
   "id": "dba701bb-9b73-46b5-b595-a8fcd53a2859",
   "metadata": {},
   "source": [
    "![](Denver_Distr_by_zip.png)"
   ]
  },
  {
   "cell_type": "markdown",
   "id": "bf5bc7cb-2e11-4da1-bbef-0fef64cf61de",
   "metadata": {},
   "source": [
    "![](seattle_distr_by_zip.png)"
   ]
  },
  {
   "cell_type": "markdown",
   "id": "7fa8e2da-f198-4d26-928e-7397c6f93340",
   "metadata": {},
   "source": [
    "![](charlotte_distr_by_zip.png)"
   ]
  },
  {
   "cell_type": "markdown",
   "id": "796cd182-52b1-4893-b5ae-7a1c9be14b37",
   "metadata": {},
   "source": [
    "![](austin_distr_by_zip.png)"
   ]
  },
  {
   "cell_type": "markdown",
   "id": "ef50a92a-13cf-495e-aa13-96abbc348526",
   "metadata": {},
   "source": [
    "![](fort_worth_distr_by_zip.png)"
   ]
  },
  {
   "cell_type": "markdown",
   "id": "49774f32-820a-4414-8ad9-6077550cd13f",
   "metadata": {
    "tags": []
   },
   "source": [
    "![](denver_venues.png)"
   ]
  },
  {
   "cell_type": "markdown",
   "id": "7a1cc3f2-86d5-4e57-9b35-0039b21dee24",
   "metadata": {},
   "source": [
    "![](denver_choropleth_zip.png)"
   ]
  },
  {
   "cell_type": "markdown",
   "id": "bca12e40-77d0-4ff2-9f62-39d6e63b85d3",
   "metadata": {},
   "source": [
    "![](seattle_venues.png)"
   ]
  },
  {
   "cell_type": "markdown",
   "id": "4d1826ca-f21c-4530-b811-39672e81d855",
   "metadata": {},
   "source": [
    "![](seattle_choropleth_zip.png)"
   ]
  },
  {
   "cell_type": "markdown",
   "id": "bf91475c-9ee8-4309-99de-e2f744ed4581",
   "metadata": {},
   "source": [
    "![](charlotte_venues.png)"
   ]
  },
  {
   "cell_type": "markdown",
   "id": "f039620d-e0f3-420a-b7d2-7251afa8ba0c",
   "metadata": {},
   "source": [
    "![](charlotte_choropleth_zip.png)"
   ]
  },
  {
   "cell_type": "markdown",
   "id": "a17d4831-c880-45ed-aa3f-1b20d3398d2b",
   "metadata": {},
   "source": [
    "![](austin_venues.png)"
   ]
  },
  {
   "cell_type": "markdown",
   "id": "969d9469-b26b-4aec-8808-a9d824019b1d",
   "metadata": {},
   "source": [
    "![](austin_choropleth_zip.png)"
   ]
  },
  {
   "cell_type": "markdown",
   "id": "02d7a3b7-299c-43e7-8e70-2f2878dd547d",
   "metadata": {},
   "source": [
    "![](fort_worth_venues.png)"
   ]
  },
  {
   "cell_type": "markdown",
   "id": "3074acf7-ffa4-40d6-87b6-d4554b1aa3c4",
   "metadata": {},
   "source": [
    "![](fort_worth_choropleth_zip.png)"
   ]
  },
  {
   "cell_type": "markdown",
   "id": "76efddce-a6b8-4087-bdd5-58eab6bc2cf1",
   "metadata": {},
   "source": [
    "### Discussion"
   ]
  },
  {
   "cell_type": "markdown",
   "id": "b11b34d8-6ead-4fc7-80c4-bd2ea794b787",
   "metadata": {},
   "source": [
    "### Conclusion"
   ]
  },
  {
   "cell_type": "markdown",
   "id": "d1dbb185-480b-412e-bac1-68d829f6045e",
   "metadata": {},
   "source": [
    "### References"
   ]
  },
  {
   "cell_type": "markdown",
   "id": "b91970b2-3a96-429c-858e-0e1c040ca4bc",
   "metadata": {},
   "source": [
    "### Acknowlegements"
   ]
  },
  {
   "cell_type": "markdown",
   "id": "3a4ab58a-2848-4a96-9fe5-4d56b21ffcda",
   "metadata": {},
   "source": [
    "### Appendices"
   ]
  }
 ],
 "metadata": {
  "kernelspec": {
   "display_name": "Python 3",
   "language": "python",
   "name": "python3"
  },
  "language_info": {
   "codemirror_mode": {
    "name": "ipython",
    "version": 3
   },
   "file_extension": ".py",
   "mimetype": "text/x-python",
   "name": "python",
   "nbconvert_exporter": "python",
   "pygments_lexer": "ipython3",
   "version": "3.8.8"
  }
 },
 "nbformat": 4,
 "nbformat_minor": 5
}
